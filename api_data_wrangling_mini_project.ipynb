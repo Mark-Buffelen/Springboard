{
 "cells": [
  {
   "cell_type": "markdown",
   "metadata": {},
   "source": [
    "This exercise will require you to pull some data from the Qunadl API. Qaundl is currently the most widely used aggregator of financial market data."
   ]
  },
  {
   "cell_type": "markdown",
   "metadata": {},
   "source": [
    "As a first step, you will need to register a free account on the http://www.quandl.com website."
   ]
  },
  {
   "cell_type": "markdown",
   "metadata": {},
   "source": [
    "After you register, you will be provided with a unique API key, that you should store:"
   ]
  },
  {
   "cell_type": "code",
   "execution_count": null,
   "metadata": {
    "collapsed": true
   },
   "outputs": [],
   "source": [
    "# Store the API key as a string - according to PEP8, constants are always named in all upper case\n",
    "API_KEY = ''\n"
   ]
  },
  {
   "cell_type": "markdown",
   "metadata": {},
   "source": [
    "Qaundl has a large number of data sources, but, unfortunately, most of them require a Premium subscription. Still, there are also a good number of free datasets."
   ]
  },
  {
   "cell_type": "markdown",
   "metadata": {},
   "source": [
    "For this mini project, we will focus on equities data from the Frankfurt Stock Exhange (FSE), which is available for free. We'll try and analyze the stock prices of a company called Carl Zeiss Meditec, which manufactures tools for eye examinations, as well as medical lasers for laser eye surgery: https://www.zeiss.com/meditec/int/home.html. The company is listed under the stock ticker AFX_X."
   ]
  },
  {
   "cell_type": "markdown",
   "metadata": {},
   "source": [
    "You can find the detailed Quandl API instructions here: https://docs.quandl.com/docs/time-series"
   ]
  },
  {
   "cell_type": "markdown",
   "metadata": {},
   "source": [
    "While there is a dedicated Python package for connecting to the Quandl API, we would prefer that you use the *requests* package, which can be easily downloaded using *pip* or *conda*. You can find the documentation for the package here: http://docs.python-requests.org/en/master/ "
   ]
  },
  {
   "cell_type": "markdown",
   "metadata": {},
   "source": [
    "Finally, apart from the *requests* package, you are encouraged to not use any third party Python packages, such as *pandas*, and instead focus on what's available in the Python Standard Library (the *collections* module might come in handy: https://pymotw.com/3/collections/).\n",
    "Also, since you won't have access to DataFrames, you are encouraged to us Python's native data structures - preferably dictionaries, though some questions can also be answered using lists.\n",
    "You can read more on these data structures here: https://docs.python.org/3/tutorial/datastructures.html"
   ]
  },
  {
   "cell_type": "markdown",
   "metadata": {},
   "source": [
    "Keep in mind that the JSON responses you will be getting from the API map almost one-to-one to Python's dictionaries. Unfortunately, they can be very nested, so make sure you read up on indexing dictionaries in the documentation provided above."
   ]
  },
  {
   "cell_type": "code",
   "execution_count": null,
   "metadata": {
    "collapsed": true
   },
   "outputs": [],
   "source": [
    "# First, import the relevant modules\n",
    "import requests\n"
   ]
  },
  {
   "cell_type": "code",
   "execution_count": null,
   "metadata": {
    "collapsed": true
   },
   "outputs": [],
   "source": [
    "# Now, call the Quandl API and pull out a small sample of the data (only one day) to get a glimpse\n",
    "# into the JSON structure that will be returned\n",
    "\n",
    "http = \"https://www.quandl.com/api/v3/datasets/FSE/AFX_X/data.json?api_key=%s\" % API_KEY\n",
    "# Ensure http request includes API_KEY correctly\n",
    "\n",
    "\n",
    "print(http)\n",
    "r =  requests.get(http)\n",
    "\n",
    "\n",
    "data = r.json()['dataset_data']['data']\n",
    "print(data[0])\n"
   ]
  },
  {
   "cell_type": "code",
   "execution_count": null,
   "metadata": {
    "collapsed": true
   },
   "outputs": [],
   "source": [
    "# Inspect the JSON structure of the object you created, and take note of how nested it is,\n",
    "# as well as the overall structure\n",
    "print(r.json())\n",
    "print('----------------------------------')\n",
    "print(data[:4])\n"
   ]
  },
  {
   "cell_type": "markdown",
   "metadata": {},
   "source": [
    "These are your tasks for this mini project:\n",
    "\n",
    "1. Collect data from the Franfurt Stock Exchange, for the ticker AFX_X, for the whole year 2017 (keep in mind that the date format is YYYY-MM-DD).\n",
    "2. Convert the returned JSON object into a Python dictionary.\n",
    "3. Calculate what the highest and lowest opening prices were for the stock in this period.\n",
    "4. What was the largest change in any one day (based on High and Low price)?\n",
    "5. What was the largest change between any two days (based on Closing Price)?\n",
    "6. What was the average daily trading volume during this year?\n",
    "7. (Optional) What was the median trading volume during this year. (Note: you may need to implement your own function for calculating the median.)"
   ]
  },
  {
   "cell_type": "code",
   "execution_count": null,
   "metadata": {
    "collapsed": true
   },
   "outputs": [],
   "source": [
    "# Variables used to set up Dictionary of 2017\n",
    "r_2017 = []\n",
    "dict_2017 = {}\n",
    "data_columns = r.json()['dataset_data']['column_names']\n",
    "\n",
    "\n",
    "# Create list of 2017 values\n",
    "for value in data:\n",
    "    if value[0].startswith('2017'):\n",
    "        r_2017.append(value)\n",
    "\n",
    "        \n",
    "# Using date as key, set up nested dictionary with column names as keys and respective values as the values\n",
    "for value in r_2017:\n",
    "    delete_value = data_columns[0]\n",
    "    temp_dict=dict(zip(data_columns, value))\n",
    "    del temp_dict[delete_value]\n",
    "    dict_2017[value[0]] = temp_dict\n",
    " \n",
    "\n",
    "print(dict_2017)       \n"
   ]
  },
  {
   "cell_type": "code",
   "execution_count": null,
   "metadata": {},
   "outputs": [],
   "source": [
    "# Set up initial variables for analysis\n",
    "high_close_value = 0\n",
    "high_close_date = ''\n",
    "\n",
    "low_close_value = 100\n",
    "low_close_date = ''\n",
    "\n",
    "one_day_difference = 0\n",
    "one_day_difference_date = ''\n",
    "\n",
    "previous_close = dict_2017['2017-12-29']['Close']\n",
    "close_difference = 0\n",
    "close_difference_dates = ''\n",
    "\n",
    "avg_count = 0\n",
    "avg_volume_count = 0\n",
    "avg_volume = 0\n",
    "\n",
    "\n",
    "# Loop through the items inside of dictionary\n",
    "for key, value in dict_2017.items():\n",
    "    \n",
    "    # Find highest closing value\n",
    "    if value['Close'] > high_close_value:\n",
    "        high_close_date = key\n",
    "        high_close_value = value['Close']\n",
    "     \n",
    "    # Find lowest closing value\n",
    "    if value['Close'] < low_close_value:\n",
    "        low_close_date = key\n",
    "        low_close_value = value['Close']\n",
    "    \n",
    "    # Ensure both 'Close' and 'Open' have numeric values\n",
    "    if(type(value['Close']) == float and type(value['Open']) == float): \n",
    "        \n",
    "        # Find biggest difference from open to close in one day\n",
    "        computed_one_day_difference = abs(value['Close'] - value['Open'])\n",
    "        if computed_one_day_difference > one_day_difference:\n",
    "            one_day_difference = computed_one_day_difference\n",
    "            one_day_difference_date = key\n",
    "    \n",
    "    # Find biggest difference between consecutive days\n",
    "    computed_difference = abs(value['Close']-previous_close)\n",
    "    if (computed_difference > close_difference):\n",
    "        close_difference = computed_difference\n",
    "        close_difference_dates = [previous_close_date, key]\n",
    "    \n",
    "    # Set closing value and date for analysis of consecutive days on next iteration of for loop\n",
    "    previous_close = value['Close']\n",
    "    previous_close_date = key\n",
    "    \n",
    "    # Find average volume traded over the 2017 year\n",
    "    avg_count+=1\n",
    "    avg_volume_count += value['Traded Volume']\n",
    "    avg_volume= avg_volume_count/avg_count\n",
    "    \n",
    "  \n",
    "# print statements to show values found in for loop above\n",
    "print('The highest closing value of 2017 was', high_close_value, 'on', high_close_date)\n",
    "print('The lowest closing value of 2017 was', low_close_value, 'on', low_close_date)\n",
    "print('The biggest one day difference between open and close was', round(one_day_difference,2), 'on', one_day_difference_date)\n",
    "print('The biggest difference between two closes was', round(close_difference, 2), 'between the days of', close_difference_dates[0], 'and', close_difference_dates[1])\n",
    "print('The average volume per day traded in 2017 was', round(avg_volume, 2))\n"
   ]
  }
 ],
 "metadata": {
  "kernelspec": {
   "display_name": "Python 3",
   "language": "python",
   "name": "python3"
  },
  "language_info": {
   "codemirror_mode": {
    "name": "ipython",
    "version": 3
   },
   "file_extension": ".py",
   "mimetype": "text/x-python",
   "name": "python",
   "nbconvert_exporter": "python",
   "pygments_lexer": "ipython3",
   "version": "3.6.5"
  }
 },
 "nbformat": 4,
 "nbformat_minor": 2
}
